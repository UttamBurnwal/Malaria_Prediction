{
 "cells": [
  {
   "cell_type": "code",
   "execution_count": 1,
   "id": "d3c53e04",
   "metadata": {},
   "outputs": [],
   "source": [
    "# Resizing the images\n",
    "\n",
    "IMAGE_SIZE = [224, 224]\n",
    "train_path = 'Dataset/Train'\n",
    "test_path = 'Dataset/Test'"
   ]
  },
  {
   "cell_type": "code",
   "execution_count": 2,
   "id": "cfde4b0e",
   "metadata": {},
   "outputs": [],
   "source": [
    "# Importing Vgg19 library and add preprocessing layers to the front of VGG\n",
    "\n",
    "from keras.applications.vgg19 import VGG19\n",
    "\n",
    "vgg19 = VGG19(input_shape = IMAGE_SIZE + [3], weights='imagenet', include_top= False)"
   ]
  },
  {
   "cell_type": "code",
   "execution_count": 3,
   "id": "9c24640d",
   "metadata": {},
   "outputs": [
    {
     "name": "stdout",
     "output_type": "stream",
     "text": [
      "Model: \"vgg19\"\n",
      "_________________________________________________________________\n",
      "Layer (type)                 Output Shape              Param #   \n",
      "=================================================================\n",
      "input_1 (InputLayer)         [(None, 224, 224, 3)]     0         \n",
      "_________________________________________________________________\n",
      "block1_conv1 (Conv2D)        (None, 224, 224, 64)      1792      \n",
      "_________________________________________________________________\n",
      "block1_conv2 (Conv2D)        (None, 224, 224, 64)      36928     \n",
      "_________________________________________________________________\n",
      "block1_pool (MaxPooling2D)   (None, 112, 112, 64)      0         \n",
      "_________________________________________________________________\n",
      "block2_conv1 (Conv2D)        (None, 112, 112, 128)     73856     \n",
      "_________________________________________________________________\n",
      "block2_conv2 (Conv2D)        (None, 112, 112, 128)     147584    \n",
      "_________________________________________________________________\n",
      "block2_pool (MaxPooling2D)   (None, 56, 56, 128)       0         \n",
      "_________________________________________________________________\n",
      "block3_conv1 (Conv2D)        (None, 56, 56, 256)       295168    \n",
      "_________________________________________________________________\n",
      "block3_conv2 (Conv2D)        (None, 56, 56, 256)       590080    \n",
      "_________________________________________________________________\n",
      "block3_conv3 (Conv2D)        (None, 56, 56, 256)       590080    \n",
      "_________________________________________________________________\n",
      "block3_conv4 (Conv2D)        (None, 56, 56, 256)       590080    \n",
      "_________________________________________________________________\n",
      "block3_pool (MaxPooling2D)   (None, 28, 28, 256)       0         \n",
      "_________________________________________________________________\n",
      "block4_conv1 (Conv2D)        (None, 28, 28, 512)       1180160   \n",
      "_________________________________________________________________\n",
      "block4_conv2 (Conv2D)        (None, 28, 28, 512)       2359808   \n",
      "_________________________________________________________________\n",
      "block4_conv3 (Conv2D)        (None, 28, 28, 512)       2359808   \n",
      "_________________________________________________________________\n",
      "block4_conv4 (Conv2D)        (None, 28, 28, 512)       2359808   \n",
      "_________________________________________________________________\n",
      "block4_pool (MaxPooling2D)   (None, 14, 14, 512)       0         \n",
      "_________________________________________________________________\n",
      "block5_conv1 (Conv2D)        (None, 14, 14, 512)       2359808   \n",
      "_________________________________________________________________\n",
      "block5_conv2 (Conv2D)        (None, 14, 14, 512)       2359808   \n",
      "_________________________________________________________________\n",
      "block5_conv3 (Conv2D)        (None, 14, 14, 512)       2359808   \n",
      "_________________________________________________________________\n",
      "block5_conv4 (Conv2D)        (None, 14, 14, 512)       2359808   \n",
      "_________________________________________________________________\n",
      "block5_pool (MaxPooling2D)   (None, 7, 7, 512)         0         \n",
      "=================================================================\n",
      "Total params: 20,024,384\n",
      "Trainable params: 20,024,384\n",
      "Non-trainable params: 0\n",
      "_________________________________________________________________\n"
     ]
    }
   ],
   "source": [
    "vgg19.summary()"
   ]
  },
  {
   "cell_type": "code",
   "execution_count": 4,
   "id": "763f4bb4",
   "metadata": {},
   "outputs": [],
   "source": [
    "# Don't train existing weights\n",
    "\n",
    "for layer in vgg19.layers:\n",
    "    layer.trainable = False"
   ]
  },
  {
   "cell_type": "code",
   "execution_count": 5,
   "id": "f0a143fb",
   "metadata": {},
   "outputs": [
    {
     "data": {
      "text/plain": [
       "['Dataset/Train\\\\Parasite', 'Dataset/Train\\\\Uninfected']"
      ]
     },
     "execution_count": 5,
     "metadata": {},
     "output_type": "execute_result"
    }
   ],
   "source": [
    "# Getting number of output classes\n",
    "\n",
    "from glob import glob\n",
    "\n",
    "folders = glob('Dataset/Train/*')\n",
    "folders"
   ]
  },
  {
   "cell_type": "code",
   "execution_count": 6,
   "id": "b5850f21",
   "metadata": {},
   "outputs": [],
   "source": [
    "from keras.layers import Flatten, Dense, Input, Lambda, Conv2D\n",
    "from keras.models import Model\n",
    "\n",
    "x = Flatten()(vgg19.output)\n",
    "prediction = Dense(len(folders), activation = 'softmax')(x)\n",
    "\n",
    "malaria_model = Model(inputs = vgg19.input, outputs = prediction)"
   ]
  },
  {
   "cell_type": "code",
   "execution_count": 7,
   "id": "08110abc",
   "metadata": {},
   "outputs": [
    {
     "name": "stdout",
     "output_type": "stream",
     "text": [
      "Model: \"functional_1\"\n",
      "_________________________________________________________________\n",
      "Layer (type)                 Output Shape              Param #   \n",
      "=================================================================\n",
      "input_1 (InputLayer)         [(None, 224, 224, 3)]     0         \n",
      "_________________________________________________________________\n",
      "block1_conv1 (Conv2D)        (None, 224, 224, 64)      1792      \n",
      "_________________________________________________________________\n",
      "block1_conv2 (Conv2D)        (None, 224, 224, 64)      36928     \n",
      "_________________________________________________________________\n",
      "block1_pool (MaxPooling2D)   (None, 112, 112, 64)      0         \n",
      "_________________________________________________________________\n",
      "block2_conv1 (Conv2D)        (None, 112, 112, 128)     73856     \n",
      "_________________________________________________________________\n",
      "block2_conv2 (Conv2D)        (None, 112, 112, 128)     147584    \n",
      "_________________________________________________________________\n",
      "block2_pool (MaxPooling2D)   (None, 56, 56, 128)       0         \n",
      "_________________________________________________________________\n",
      "block3_conv1 (Conv2D)        (None, 56, 56, 256)       295168    \n",
      "_________________________________________________________________\n",
      "block3_conv2 (Conv2D)        (None, 56, 56, 256)       590080    \n",
      "_________________________________________________________________\n",
      "block3_conv3 (Conv2D)        (None, 56, 56, 256)       590080    \n",
      "_________________________________________________________________\n",
      "block3_conv4 (Conv2D)        (None, 56, 56, 256)       590080    \n",
      "_________________________________________________________________\n",
      "block3_pool (MaxPooling2D)   (None, 28, 28, 256)       0         \n",
      "_________________________________________________________________\n",
      "block4_conv1 (Conv2D)        (None, 28, 28, 512)       1180160   \n",
      "_________________________________________________________________\n",
      "block4_conv2 (Conv2D)        (None, 28, 28, 512)       2359808   \n",
      "_________________________________________________________________\n",
      "block4_conv3 (Conv2D)        (None, 28, 28, 512)       2359808   \n",
      "_________________________________________________________________\n",
      "block4_conv4 (Conv2D)        (None, 28, 28, 512)       2359808   \n",
      "_________________________________________________________________\n",
      "block4_pool (MaxPooling2D)   (None, 14, 14, 512)       0         \n",
      "_________________________________________________________________\n",
      "block5_conv1 (Conv2D)        (None, 14, 14, 512)       2359808   \n",
      "_________________________________________________________________\n",
      "block5_conv2 (Conv2D)        (None, 14, 14, 512)       2359808   \n",
      "_________________________________________________________________\n",
      "block5_conv3 (Conv2D)        (None, 14, 14, 512)       2359808   \n",
      "_________________________________________________________________\n",
      "block5_conv4 (Conv2D)        (None, 14, 14, 512)       2359808   \n",
      "_________________________________________________________________\n",
      "block5_pool (MaxPooling2D)   (None, 7, 7, 512)         0         \n",
      "_________________________________________________________________\n",
      "flatten (Flatten)            (None, 25088)             0         \n",
      "_________________________________________________________________\n",
      "dense (Dense)                (None, 2)                 50178     \n",
      "=================================================================\n",
      "Total params: 20,074,562\n",
      "Trainable params: 50,178\n",
      "Non-trainable params: 20,024,384\n",
      "_________________________________________________________________\n"
     ]
    }
   ],
   "source": [
    "malaria_model.summary()"
   ]
  },
  {
   "cell_type": "code",
   "execution_count": 8,
   "id": "83e7b0d5",
   "metadata": {},
   "outputs": [],
   "source": [
    "from keras.layers import MaxPooling2D\n",
    "from keras.models import Sequential"
   ]
  },
  {
   "cell_type": "code",
   "execution_count": 9,
   "id": "fe200d3e",
   "metadata": {},
   "outputs": [
    {
     "name": "stdout",
     "output_type": "stream",
     "text": [
      "Model: \"sequential\"\n",
      "_________________________________________________________________\n",
      "Layer (type)                 Output Shape              Param #   \n",
      "=================================================================\n",
      "conv2d (Conv2D)              (None, 224, 224, 16)      208       \n",
      "_________________________________________________________________\n",
      "max_pooling2d (MaxPooling2D) (None, 112, 112, 16)      0         \n",
      "_________________________________________________________________\n",
      "conv2d_1 (Conv2D)            (None, 112, 112, 32)      2080      \n",
      "_________________________________________________________________\n",
      "max_pooling2d_1 (MaxPooling2 (None, 56, 56, 32)        0         \n",
      "_________________________________________________________________\n",
      "conv2d_2 (Conv2D)            (None, 56, 56, 64)        8256      \n",
      "_________________________________________________________________\n",
      "max_pooling2d_2 (MaxPooling2 (None, 28, 28, 64)        0         \n",
      "_________________________________________________________________\n",
      "flatten_1 (Flatten)          (None, 50176)             0         \n",
      "_________________________________________________________________\n",
      "dense_1 (Dense)              (None, 500)               25088500  \n",
      "_________________________________________________________________\n",
      "dense_2 (Dense)              (None, 2)                 1002      \n",
      "=================================================================\n",
      "Total params: 25,100,046\n",
      "Trainable params: 25,100,046\n",
      "Non-trainable params: 0\n",
      "_________________________________________________________________\n"
     ]
    }
   ],
   "source": [
    "# CNN Model\n",
    "\n",
    "malaria_model=Sequential()\n",
    "malaria_model.add(Conv2D(filters=16,kernel_size=2,padding=\"same\",activation=\"relu\",input_shape=(224,224,3)))\n",
    "malaria_model.add(MaxPooling2D(pool_size=2))\n",
    "malaria_model.add(Conv2D(filters=32,kernel_size=2,padding=\"same\",activation =\"relu\"))\n",
    "malaria_model.add(MaxPooling2D(pool_size=2))\n",
    "malaria_model.add(Conv2D(filters=64,kernel_size=2,padding=\"same\",activation=\"relu\"))\n",
    "malaria_model.add(MaxPooling2D(pool_size=2))\n",
    "malaria_model.add(Flatten())\n",
    "malaria_model.add(Dense(500,activation=\"relu\"))\n",
    "malaria_model.add(Dense(2,activation=\"softmax\"))\n",
    "malaria_model.summary()"
   ]
  },
  {
   "cell_type": "code",
   "execution_count": 10,
   "id": "c8b87d61",
   "metadata": {},
   "outputs": [],
   "source": [
    "malaria_model.compile(\n",
    "    loss = 'categorical_crossentropy',\n",
    "    optimizer = 'adam',\n",
    "    metrics = ['accuracy']\n",
    ")"
   ]
  },
  {
   "cell_type": "code",
   "execution_count": 11,
   "id": "32254232",
   "metadata": {},
   "outputs": [],
   "source": [
    "from keras.preprocessing import image\n",
    "from keras.preprocessing.image import ImageDataGenerator\n",
    "\n",
    "datagen_train = ImageDataGenerator(rescale = 1./255,\n",
    "                                  shear_range = 0.2,\n",
    "                                  zoom_range = 0.2,\n",
    "                                  horizontal_flip = True)\n",
    "\n",
    "datagen_test = ImageDataGenerator(rescale = 1./255)"
   ]
  },
  {
   "cell_type": "code",
   "execution_count": 12,
   "id": "88c6e36f",
   "metadata": {},
   "outputs": [
    {
     "name": "stdout",
     "output_type": "stream",
     "text": [
      "Found 416 images belonging to 2 classes.\n"
     ]
    },
    {
     "data": {
      "text/plain": [
       "<tensorflow.python.keras.preprocessing.image.DirectoryIterator at 0x20406c1b820>"
      ]
     },
     "execution_count": 12,
     "metadata": {},
     "output_type": "execute_result"
    }
   ],
   "source": [
    "train_set = datagen_train.flow_from_directory('Dataset/Train', target_size = (224,224),\n",
    "                                              batch_size = 32,\n",
    "                                           class_mode = 'categorical')\n",
    "train_set"
   ]
  },
  {
   "cell_type": "code",
   "execution_count": 13,
   "id": "7efbf7eb",
   "metadata": {},
   "outputs": [
    {
     "name": "stdout",
     "output_type": "stream",
     "text": [
      "Found 134 images belonging to 2 classes.\n"
     ]
    }
   ],
   "source": [
    "test_set = datagen_test.flow_from_directory('Dataset/Test',\n",
    "                                            target_size = (224, 224),\n",
    "                                            batch_size = 32,\n",
    "                                            class_mode = 'categorical')"
   ]
  },
  {
   "cell_type": "code",
   "execution_count": 14,
   "id": "e6688904",
   "metadata": {},
   "outputs": [
    {
     "name": "stdout",
     "output_type": "stream",
     "text": [
      "Epoch 1/20\n",
      "13/13 [==============================] - 79s 6s/step - loss: 1.8085 - accuracy: 0.5409 - val_loss: 0.7234 - val_accuracy: 0.6791\n",
      "Epoch 2/20\n",
      "13/13 [==============================] - 86s 7s/step - loss: 0.6809 - accuracy: 0.6058 - val_loss: 0.7068 - val_accuracy: 0.4030\n",
      "Epoch 3/20\n",
      "13/13 [==============================] - 77s 6s/step - loss: 0.6529 - accuracy: 0.6947 - val_loss: 0.7161 - val_accuracy: 0.4552\n",
      "Epoch 4/20\n",
      "13/13 [==============================] - 81s 6s/step - loss: 0.5550 - accuracy: 0.7188 - val_loss: 0.9094 - val_accuracy: 0.3284\n",
      "Epoch 5/20\n",
      "13/13 [==============================] - 87s 7s/step - loss: 0.4562 - accuracy: 0.7548 - val_loss: 1.4355 - val_accuracy: 0.3358\n",
      "Epoch 6/20\n",
      "13/13 [==============================] - 80s 6s/step - loss: 0.4355 - accuracy: 0.7740 - val_loss: 1.0069 - val_accuracy: 0.3507\n",
      "Epoch 7/20\n",
      "13/13 [==============================] - 88s 7s/step - loss: 0.4314 - accuracy: 0.7716 - val_loss: 0.9267 - val_accuracy: 0.3731\n",
      "Epoch 8/20\n",
      "13/13 [==============================] - 83s 6s/step - loss: 0.3764 - accuracy: 0.8389 - val_loss: 0.9450 - val_accuracy: 0.3955\n",
      "Epoch 9/20\n",
      "13/13 [==============================] - 87s 7s/step - loss: 0.4046 - accuracy: 0.8125 - val_loss: 0.6331 - val_accuracy: 0.6045\n",
      "Epoch 10/20\n",
      "13/13 [==============================] - 79s 6s/step - loss: 0.3523 - accuracy: 0.8534 - val_loss: 0.7429 - val_accuracy: 0.5224\n",
      "Epoch 11/20\n",
      "13/13 [==============================] - 88s 7s/step - loss: 0.3118 - accuracy: 0.8702 - val_loss: 0.7433 - val_accuracy: 0.5597\n",
      "Epoch 12/20\n",
      "13/13 [==============================] - 82s 6s/step - loss: 0.2751 - accuracy: 0.9014 - val_loss: 0.5906 - val_accuracy: 0.6716\n",
      "Epoch 13/20\n",
      "13/13 [==============================] - 88s 7s/step - loss: 0.2513 - accuracy: 0.9014 - val_loss: 0.5768 - val_accuracy: 0.6642\n",
      "Epoch 14/20\n",
      "13/13 [==============================] - 80s 6s/step - loss: 0.2408 - accuracy: 0.9207 - val_loss: 0.4708 - val_accuracy: 0.7537\n",
      "Epoch 15/20\n",
      "13/13 [==============================] - 88s 7s/step - loss: 0.1929 - accuracy: 0.9255 - val_loss: 0.5292 - val_accuracy: 0.7388\n",
      "Epoch 16/20\n",
      "13/13 [==============================] - 82s 6s/step - loss: 0.1935 - accuracy: 0.9231 - val_loss: 0.6316 - val_accuracy: 0.6940\n",
      "Epoch 17/20\n",
      "13/13 [==============================] - 89s 7s/step - loss: 0.1577 - accuracy: 0.9447 - val_loss: 0.3422 - val_accuracy: 0.8433\n",
      "Epoch 18/20\n",
      "13/13 [==============================] - 80s 6s/step - loss: 0.1628 - accuracy: 0.9399 - val_loss: 0.4459 - val_accuracy: 0.7910\n",
      "Epoch 19/20\n",
      "13/13 [==============================] - 91s 7s/step - loss: 0.1529 - accuracy: 0.9591 - val_loss: 0.4389 - val_accuracy: 0.7910\n",
      "Epoch 20/20\n",
      "13/13 [==============================] - 79s 6s/step - loss: 0.1390 - accuracy: 0.9495 - val_loss: 0.4045 - val_accuracy: 0.8209\n"
     ]
    }
   ],
   "source": [
    "# Model Fitting\n",
    "\n",
    "fit = malaria_model.fit(train_set, validation_data = test_set, epochs = 20, \n",
    "                        steps_per_epoch = len(train_set), validation_steps = len(test_set))"
   ]
  },
  {
   "cell_type": "code",
   "execution_count": 15,
   "id": "8c0e386f",
   "metadata": {},
   "outputs": [
    {
     "data": {
      "image/png": "[encoded data removed]",
      "text/plain": [
       "<Figure size 432x288 with 1 Axes>"
      ]
     },
     "metadata": {
      "needs_background": "light"
     },
     "output_type": "display_data"
    },
    {
     "data": {
      "image/png": "[encoded data removed]",
      "text/plain": [
       "<Figure size 432x288 with 1 Axes>"
      ]
     },
     "metadata": {
      "needs_background": "light"
     },
     "output_type": "display_data"
    },
    {
     "data": {
      "text/plain": [
       "<Figure size 432x288 with 0 Axes>"
      ]
     },
     "metadata": {},
     "output_type": "display_data"
    }
   ],
   "source": [
    "# plot the loss\n",
    "\n",
    "import matplotlib.pyplot as plt\n",
    "\n",
    "plt.plot(fit.history['loss'], label='train loss')\n",
    "plt.plot(fit.history['val_loss'], label='val loss')\n",
    "plt.legend()\n",
    "plt.show()\n",
    "plt.savefig('LossVal_loss')\n",
    "\n",
    "# plot the accuracy\n",
    "plt.plot(fit.history['accuracy'], label='train acc')\n",
    "plt.plot(fit.history['val_accuracy'], label='val acc')\n",
    "plt.legend()\n",
    "plt.show()\n",
    "plt.savefig('AccVal_acc')"
   ]
  },
  {
   "cell_type": "code",
   "execution_count": 16,
   "id": "3c1fa4c8",
   "metadata": {},
   "outputs": [
    {
     "data": {
      "text/plain": [
       "array([[9.99355257e-01, 6.44791406e-04],\n",
       "       [9.54519451e-01, 4.54805456e-02],\n",
       "       [2.62419701e-01, 7.37580240e-01],\n",
       "       [9.98548090e-01, 1.45188079e-03],\n",
       "       [3.97374302e-01, 6.02625728e-01],\n",
       "       [4.91111018e-02, 9.50888932e-01],\n",
       "       [1.13094389e-01, 8.86905611e-01],\n",
       "       [9.88626659e-01, 1.13733700e-02],\n",
       "       [2.19207734e-01, 7.80792236e-01],\n",
       "       [9.42945063e-01, 5.70549518e-02],\n",
       "       [5.65672278e-01, 4.34327692e-01],\n",
       "       [9.10041988e-01, 8.99580345e-02],\n",
       "       [3.04829814e-02, 9.69516993e-01],\n",
       "       [4.78938110e-02, 9.52106237e-01],\n",
       "       [7.06241727e-02, 9.29375887e-01],\n",
       "       [7.35175833e-02, 9.26482439e-01],\n",
       "       [5.66850491e-02, 9.43314910e-01],\n",
       "       [2.34580070e-01, 7.65419960e-01],\n",
       "       [9.23581481e-01, 7.64185190e-02],\n",
       "       [9.99996424e-01, 3.60517606e-06],\n",
       "       [3.77942249e-02, 9.62205768e-01],\n",
       "       [8.90367180e-02, 9.10963297e-01],\n",
       "       [2.13480487e-01, 7.86519527e-01],\n",
       "       [9.82669473e-01, 1.73305143e-02],\n",
       "       [8.20973575e-01, 1.79026350e-01],\n",
       "       [1.52669400e-01, 8.47330630e-01],\n",
       "       [9.99651551e-01, 3.48465721e-04],\n",
       "       [9.39051509e-01, 6.09485619e-02],\n",
       "       [9.36404467e-01, 6.35955781e-02],\n",
       "       [4.35614474e-02, 9.56438541e-01],\n",
       "       [1.28867999e-01, 8.71132076e-01],\n",
       "       [7.16561824e-02, 9.28343892e-01],\n",
       "       [4.19315070e-01, 5.80684900e-01],\n",
       "       [5.79155162e-02, 9.42084551e-01],\n",
       "       [4.22790498e-01, 5.77209532e-01],\n",
       "       [8.11049581e-01, 1.88950464e-01],\n",
       "       [9.80831563e-01, 1.91684980e-02],\n",
       "       [3.33431184e-01, 6.66568756e-01],\n",
       "       [9.87742901e-01, 1.22571588e-02],\n",
       "       [9.66266751e-01, 3.37332599e-02],\n",
       "       [9.21244323e-02, 9.07875597e-01],\n",
       "       [9.91644084e-01, 8.35588109e-03],\n",
       "       [9.99863267e-01, 1.36703151e-04],\n",
       "       [3.20795886e-02, 9.67920423e-01],\n",
       "       [2.84685105e-01, 7.15314925e-01],\n",
       "       [5.92462234e-02, 9.40753758e-01],\n",
       "       [2.66910661e-02, 9.73308921e-01],\n",
       "       [9.97532487e-01, 2.46750284e-03],\n",
       "       [7.38554001e-01, 2.61445999e-01],\n",
       "       [3.04515976e-02, 9.69548345e-01],\n",
       "       [9.95624959e-01, 4.37505264e-03],\n",
       "       [9.99978185e-01, 2.18260666e-05],\n",
       "       [3.22819561e-01, 6.77180469e-01],\n",
       "       [3.21990848e-01, 6.78009093e-01],\n",
       "       [9.99959946e-01, 4.00256176e-05],\n",
       "       [9.98277783e-01, 1.72224920e-03],\n",
       "       [2.17767581e-01, 7.82232404e-01],\n",
       "       [5.94308078e-02, 9.40569162e-01],\n",
       "       [9.80896831e-01, 1.91032067e-02],\n",
       "       [9.26674679e-02, 9.07332540e-01],\n",
       "       [3.57295685e-02, 9.64270413e-01],\n",
       "       [4.30241749e-02, 9.56975818e-01],\n",
       "       [5.57899892e-01, 4.42100197e-01],\n",
       "       [8.06963801e-01, 1.93036199e-01],\n",
       "       [6.73226565e-02, 9.32677329e-01],\n",
       "       [8.65166545e-01, 1.34833410e-01],\n",
       "       [2.40905702e-01, 7.59094238e-01],\n",
       "       [6.45291805e-01, 3.54708195e-01],\n",
       "       [7.43144006e-02, 9.25685585e-01],\n",
       "       [8.58920217e-01, 1.41079754e-01],\n",
       "       [6.90804362e-01, 3.09195668e-01],\n",
       "       [5.47121651e-02, 9.45287824e-01],\n",
       "       [6.64189532e-02, 9.33581114e-01],\n",
       "       [5.13902456e-02, 9.48609710e-01],\n",
       "       [8.56381804e-02, 9.14361835e-01],\n",
       "       [2.39379615e-01, 7.60620356e-01],\n",
       "       [3.63925584e-02, 9.63607490e-01],\n",
       "       [4.05109823e-01, 5.94890177e-01],\n",
       "       [9.87044990e-01, 1.29550733e-02],\n",
       "       [2.28009913e-02, 9.77199078e-01],\n",
       "       [7.13287532e-01, 2.86712438e-01],\n",
       "       [7.93800473e-01, 2.06199527e-01],\n",
       "       [9.94119525e-01, 5.88052813e-03],\n",
       "       [9.95207131e-01, 4.79286211e-03],\n",
       "       [2.99698800e-01, 7.00301170e-01],\n",
       "       [8.38123038e-02, 9.16187704e-01],\n",
       "       [9.97519672e-01, 2.48026056e-03],\n",
       "       [6.95798323e-02, 9.30420220e-01],\n",
       "       [9.93213296e-01, 6.78669428e-03],\n",
       "       [9.99909997e-01, 9.00396553e-05],\n",
       "       [9.58129942e-01, 4.18700129e-02],\n",
       "       [8.95264030e-01, 1.04735941e-01],\n",
       "       [6.18867688e-02, 9.38113272e-01],\n",
       "       [7.98088253e-01, 2.01911747e-01],\n",
       "       [8.26011300e-01, 1.73988700e-01],\n",
       "       [1.97375745e-01, 8.02624226e-01],\n",
       "       [9.37119067e-01, 6.28809407e-02],\n",
       "       [9.92770493e-01, 7.22948788e-03],\n",
       "       [9.53140259e-02, 9.04685915e-01],\n",
       "       [9.83357430e-01, 1.66425426e-02],\n",
       "       [2.56001968e-02, 9.74399805e-01],\n",
       "       [9.98315215e-01, 1.68478698e-03],\n",
       "       [9.90412891e-01, 9.58709605e-03],\n",
       "       [9.94761288e-01, 5.23872254e-03],\n",
       "       [9.97152448e-01, 2.84752552e-03],\n",
       "       [7.00288177e-01, 2.99711764e-01],\n",
       "       [8.54304075e-01, 1.45695999e-01],\n",
       "       [4.83128913e-02, 9.51687098e-01],\n",
       "       [9.74263251e-02, 9.02573645e-01],\n",
       "       [5.65896213e-01, 4.34103787e-01],\n",
       "       [1.90675110e-01, 8.09324920e-01],\n",
       "       [8.11373174e-01, 1.88626796e-01],\n",
       "       [6.22932374e-01, 3.77067596e-01],\n",
       "       [8.79303932e-01, 1.20696083e-01],\n",
       "       [9.99532700e-01, 4.67264763e-04],\n",
       "       [2.00478919e-02, 9.79952157e-01],\n",
       "       [2.94248968e-01, 7.05751002e-01],\n",
       "       [8.06866527e-01, 1.93133444e-01],\n",
       "       [9.99609172e-01, 3.90864065e-04],\n",
       "       [9.98382926e-01, 1.61713350e-03],\n",
       "       [1.42829522e-01, 8.57170463e-01],\n",
       "       [5.49247682e-01, 4.50752288e-01],\n",
       "       [3.03072900e-01, 6.96927130e-01],\n",
       "       [1.79386362e-01, 8.20613623e-01],\n",
       "       [9.77462232e-01, 2.25377940e-02],\n",
       "       [3.91378850e-02, 9.60862160e-01],\n",
       "       [6.50522470e-01, 3.49477530e-01],\n",
       "       [1.18236706e-01, 8.81763339e-01],\n",
       "       [1.34413660e-01, 8.65586400e-01],\n",
       "       [1.54162169e-01, 8.45837772e-01],\n",
       "       [9.96633351e-01, 3.36665893e-03],\n",
       "       [1.15515627e-01, 8.84484351e-01],\n",
       "       [4.04809155e-02, 9.59519088e-01],\n",
       "       [6.55840516e-01, 3.44159454e-01]], dtype=float32)"
      ]
     },
     "execution_count": 16,
     "metadata": {},
     "output_type": "execute_result"
    }
   ],
   "source": [
    "y_pred = malaria_model.predict(test_set)\n",
    "y_pred"
   ]
  },
  {
   "cell_type": "code",
   "execution_count": 17,
   "id": "20ebefad",
   "metadata": {},
   "outputs": [],
   "source": [
    "import numpy as np\n",
    "y_pred = np.argmax(y_pred, axis=1)"
   ]
  },
  {
   "cell_type": "code",
   "execution_count": 18,
   "id": "09751636",
   "metadata": {},
   "outputs": [
    {
     "data": {
      "text/plain": [
       "array([0, 0, 1, 0, 1, 1, 1, 0, 1, 0, 0, 0, 1, 1, 1, 1, 1, 1, 0, 0, 1, 1,\n",
       "       1, 0, 0, 1, 0, 0, 0, 1, 1, 1, 1, 1, 1, 0, 0, 1, 0, 0, 1, 0, 0, 1,\n",
       "       1, 1, 1, 0, 0, 1, 0, 0, 1, 1, 0, 0, 1, 1, 0, 1, 1, 1, 0, 0, 1, 0,\n",
       "       1, 0, 1, 0, 0, 1, 1, 1, 1, 1, 1, 1, 0, 1, 0, 0, 0, 0, 1, 1, 0, 1,\n",
       "       0, 0, 0, 0, 1, 0, 0, 1, 0, 0, 1, 0, 1, 0, 0, 0, 0, 0, 0, 1, 1, 0,\n",
       "       1, 0, 0, 0, 0, 1, 1, 0, 0, 0, 1, 0, 1, 1, 0, 1, 0, 1, 1, 1, 0, 1,\n",
       "       1, 0], dtype=int64)"
      ]
     },
     "execution_count": 18,
     "metadata": {},
     "output_type": "execute_result"
    }
   ],
   "source": [
    "y_pred"
   ]
  },
  {
   "cell_type": "code",
   "execution_count": 19,
   "id": "e29323d9",
   "metadata": {},
   "outputs": [],
   "source": [
    "from tensorflow.keras.preprocessing import image\n",
    "\n",
    "img = image.load_img('Dataset/Test/Uninfected/2.png',target_size=(224,224))"
   ]
  },
  {
   "cell_type": "code",
   "execution_count": 20,
   "id": "c6c6df04",
   "metadata": {},
   "outputs": [
    {
     "data": {
      "text/plain": [
       "array([[[0., 0., 0.],\n",
       "        [0., 0., 0.],\n",
       "        [0., 0., 0.],\n",
       "        ...,\n",
       "        [0., 0., 0.],\n",
       "        [0., 0., 0.],\n",
       "        [0., 0., 0.]],\n",
       "\n",
       "       [[0., 0., 0.],\n",
       "        [0., 0., 0.],\n",
       "        [0., 0., 0.],\n",
       "        ...,\n",
       "        [0., 0., 0.],\n",
       "        [0., 0., 0.],\n",
       "        [0., 0., 0.]],\n",
       "\n",
       "       [[0., 0., 0.],\n",
       "        [0., 0., 0.],\n",
       "        [0., 0., 0.],\n",
       "        ...,\n",
       "        [0., 0., 0.],\n",
       "        [0., 0., 0.],\n",
       "        [0., 0., 0.]],\n",
       "\n",
       "       ...,\n",
       "\n",
       "       [[0., 0., 0.],\n",
       "        [0., 0., 0.],\n",
       "        [0., 0., 0.],\n",
       "        ...,\n",
       "        [0., 0., 0.],\n",
       "        [0., 0., 0.],\n",
       "        [0., 0., 0.]],\n",
       "\n",
       "       [[0., 0., 0.],\n",
       "        [0., 0., 0.],\n",
       "        [0., 0., 0.],\n",
       "        ...,\n",
       "        [0., 0., 0.],\n",
       "        [0., 0., 0.],\n",
       "        [0., 0., 0.]],\n",
       "\n",
       "       [[0., 0., 0.],\n",
       "        [0., 0., 0.],\n",
       "        [0., 0., 0.],\n",
       "        ...,\n",
       "        [0., 0., 0.],\n",
       "        [0., 0., 0.],\n",
       "        [0., 0., 0.]]], dtype=float32)"
      ]
     },
     "execution_count": 20,
     "metadata": {},
     "output_type": "execute_result"
    }
   ],
   "source": [
    "img_a=image.img_to_array(img)\n",
    "img_a"
   ]
  },
  {
   "cell_type": "code",
   "execution_count": 21,
   "id": "169c8d2f",
   "metadata": {},
   "outputs": [
    {
     "data": {
      "text/plain": [
       "(224, 224, 3)"
      ]
     },
     "execution_count": 21,
     "metadata": {},
     "output_type": "execute_result"
    }
   ],
   "source": [
    "img_a.shape"
   ]
  },
  {
   "cell_type": "code",
   "execution_count": 22,
   "id": "36844731",
   "metadata": {},
   "outputs": [
    {
     "data": {
      "text/plain": [
       "(1, 224, 224, 3)"
      ]
     },
     "execution_count": 22,
     "metadata": {},
     "output_type": "execute_result"
    }
   ],
   "source": [
    "from tensorflow.keras.applications.resnet50 import preprocess_input\n",
    "\n",
    "img_a = img_a/255\n",
    "img_a = np.expand_dims(img_a, axis=0)\n",
    "img_data = preprocess_input(img_a)\n",
    "img_data.shape"
   ]
  },
  {
   "cell_type": "code",
   "execution_count": 23,
   "id": "e565379f",
   "metadata": {},
   "outputs": [
    {
     "data": {
      "text/plain": [
       "array([[0., 1.]], dtype=float32)"
      ]
     },
     "execution_count": 23,
     "metadata": {},
     "output_type": "execute_result"
    }
   ],
   "source": [
    "malaria_model.predict(img_data)"
   ]
  },
  {
   "cell_type": "code",
   "execution_count": 25,
   "id": "63922711",
   "metadata": {},
   "outputs": [],
   "source": [
    "pred = np.argmax(malaria_model.predict(img_data), axis=1)"
   ]
  },
  {
   "cell_type": "code",
   "execution_count": 26,
   "id": "25e685c7",
   "metadata": {},
   "outputs": [
    {
     "name": "stdout",
     "output_type": "stream",
     "text": [
      "Uninfected\n"
     ]
    }
   ],
   "source": [
    "if(pred == 1):\n",
    "    print(\"Uninfected\")\n",
    "else:\n",
    "    print(\"Infected\")"
   ]
  },
  {
   "cell_type": "code",
   "execution_count": 28,
   "id": "2e4f248b",
   "metadata": {},
   "outputs": [],
   "source": [
    "from keras.models import load_model\n",
    "malaria_model.save('model_vgg19.h5')"
   ]
  },
  {
   "cell_type": "code",
   "execution_count": null,
   "id": "f9332b78",
   "metadata": {},
   "outputs": [],
   "source": []
  }
 ],
 "metadata": {
  "kernelspec": {
   "display_name": "Python 3 (ipykernel)",
   "language": "python",
   "name": "python3"
  },
  "language_info": {
   "codemirror_mode": {
    "name": "ipython",
    "version": 3
   },
   "file_extension": ".py",
   "mimetype": "text/x-python",
   "name": "python",
   "nbconvert_exporter": "python",
   "pygments_lexer": "ipython3",
   "version": "3.8.12"
  }
 },
 "nbformat": 4,
 "nbformat_minor": 5
}
